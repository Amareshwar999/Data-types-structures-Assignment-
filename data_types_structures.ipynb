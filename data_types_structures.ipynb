{
  "nbformat": 4,
  "nbformat_minor": 0,
  "metadata": {
    "colab": {
      "provenance": []
    },
    "kernelspec": {
      "name": "python3",
      "display_name": "Python 3"
    },
    "language_info": {
      "name": "python"
    }
  },
  "cells": [
    {
      "cell_type": "markdown",
      "source": [
        "# **Data Types and Structures Assignment**"
      ],
      "metadata": {
        "id": "o9oe0BRF9IxD"
      }
    },
    {
      "cell_type": "markdown",
      "source": [
        "1. What are data structures, and why are they important ?\n",
        "  - Data structures are ways to organize and store data efficiently for access and modification. They are important because they enable efficient data management and algorithm implementation.\n",
        "  ---\n",
        "2.  Explain the difference between mutable and immutable data types with examples.\n",
        "  - Mutable data types can be changed after creation (e.g., lists in Python), while immutable data types cannot be changed (e.g., tuples, strings ).\n",
        "  ---\n",
        "3. What are the main differences between lists and tuples in Python ?\n",
        "  - Lists are mutable and can be modified, while tuples are immutable and cannot be changed after creation.\n",
        "  ---\n",
        "4. Describe how dictionaries store data.\n",
        "  - Dictionaries store data as key-value pairs.2\n",
        "  ---\n",
        "5. Why might you use a set instead of a list in Python ?\n",
        "  - Sets automatically remove duplicates and provide faster membership testing compared to lists.\n",
        "  ---\n",
        "6. What is a string in Python, and how is it different from a list ?\n",
        "  - A string is a sequence of characters and is immutable, while a list is a mutable sequence of elements.\n",
        "  ---\n",
        "7.  How do tuples ensure data integrity in Python ?\n",
        "  - Tuples are immutable, so their contents cannot be changed, ensuring data integrity.\n",
        "  ---\n",
        "8. What is a hash table, and how does it relate to dictionaries in Python ?\n",
        "  - A hash table is a data structure that maps keys to values using a hash function. Dictionaries in Python are implemented using hash tables.\n",
        "  ---\n",
        "9. Can lists contain different data types in Python ?\n",
        "  - Yes, lists can contain elements of different data types.\n",
        "  ---\n",
        "10. Explain why strings are immutable in Python.\n",
        "  - Strings are immutable to ensure consistency and allow optimization like string interning.\n",
        "  ---\n",
        "11. What advantages do dictionaries offer over lists for certain tasks ?\n",
        "  - Dictionaries allow fast lookups by key, while lists require linear search by index or value.\n",
        "  ---\n",
        "12. Describe a scenario where using a tuple would be preferable over a list.\n",
        "  - When you need a fixed collection of items that should not change, such as coordinates or fixed configuration values.\n",
        "  ---\n",
        "13. How do sets handle duplicate values in Python ?\n",
        "  - Sets automatically remove duplicate values and store only unique elements.\n",
        "  ---\n",
        "14.  How does the “in” keyword work differently for lists and dictionaries ?\n",
        "  - For lists, 'in' checks for the presence of a value; for dictionaries, it checks for the presence of a key.\n",
        "  ---\n",
        "15. Can you modify the elements of a tuple? Explain why or why not.\n",
        "  - No, tuples are immutable, so their elements cannot be modified after creation.\n",
        "  ---\n",
        "16. What is a nested dictionary, and give an example of its use case?\n",
        "  - A dictionary inside another dictionary.\n",
        "  \n",
        "      example: student = {\"name\": \"John\", \"marks\": {\"math\": 90, \"science\": 85}}\n",
        "  ---\n",
        "17. Describe the time complexity of accessing elements in a dictionary.\n",
        "  - Average time complexity is O(1) for accessing elements by key.\n",
        "  ---\n",
        "18.  In what situations are lists preferred over dictionaries ?\n",
        "  - When order matters or when you need to store a sequence of items without key-value pairs.\n",
        "  ---\n",
        "19. Why are dictionaries considered unordered, and how does that affect data retrieval ?\n",
        "  - Dictionaries before Python 3.7 are unordered, meaning the order of items is not guaranteed, but this does not affect key-based retrieval.\n",
        "  ---\n",
        "20. Explain the difference between a list and a dictionary in terms of data retrieval.\n",
        "  - Lists retrieve data by index, dictionaries retrieve data by key.\n",
        "---\n"
      ],
      "metadata": {
        "id": "lVHGDS9b9mMm"
      }
    },
    {
      "cell_type": "markdown",
      "source": [],
      "metadata": {
        "id": "bDkA5par9mJA"
      }
    },
    {
      "cell_type": "markdown",
      "source": [
        "#**Practical Questions**"
      ],
      "metadata": {
        "id": "IVe15U15DUq-"
      }
    },
    {
      "cell_type": "code",
      "source": [
        "# Write a code to create a string with your name and print it\n",
        "name = 'Amareshwar Sunkaraboina'\n",
        "print(name)"
      ],
      "metadata": {
        "colab": {
          "base_uri": "https://localhost:8080/"
        },
        "id": "rMobcSqQDd7a",
        "outputId": "b6bc5312-a16a-4ff4-c235-90a5af411ab5"
      },
      "execution_count": 2,
      "outputs": [
        {
          "output_type": "stream",
          "name": "stdout",
          "text": [
            "Amareshwar Sunkaraboina\n"
          ]
        }
      ]
    },
    {
      "cell_type": "code",
      "source": [
        "#Write a code to find the length of the string \"Hello World\"\n",
        "a = \"Hello World\"\n",
        "print(len(a))"
      ],
      "metadata": {
        "colab": {
          "base_uri": "https://localhost:8080/"
        },
        "id": "UOioAW5VDjXS",
        "outputId": "6cbe2943-aace-40a2-9aec-c4530b94103b"
      },
      "execution_count": 4,
      "outputs": [
        {
          "output_type": "stream",
          "name": "stdout",
          "text": [
            "11\n"
          ]
        }
      ]
    },
    {
      "cell_type": "code",
      "source": [
        "#Write a code to slice the first 3 characters from the string \"Python Programming\"\n",
        "a = \"Python Programming\"\n",
        "print(a[0:3])"
      ],
      "metadata": {
        "colab": {
          "base_uri": "https://localhost:8080/"
        },
        "id": "-JIP9Gh5DjTx",
        "outputId": "f0f2cb8c-a1f6-492c-f2dd-54f1442d50d7"
      },
      "execution_count": 5,
      "outputs": [
        {
          "output_type": "stream",
          "name": "stdout",
          "text": [
            "Pyt\n"
          ]
        }
      ]
    },
    {
      "cell_type": "code",
      "source": [
        "#Write a code to convert the string \"hello\" to uppercase\n",
        "a = \"hello\"\n",
        "print(a.upper())\n"
      ],
      "metadata": {
        "colab": {
          "base_uri": "https://localhost:8080/"
        },
        "id": "MXPlLI4ADjRu",
        "outputId": "a25a0ace-7b7e-4d9a-8c7f-dac63b866da5"
      },
      "execution_count": 6,
      "outputs": [
        {
          "output_type": "stream",
          "name": "stdout",
          "text": [
            "HELLO\n"
          ]
        }
      ]
    },
    {
      "cell_type": "code",
      "source": [
        "#Write a code to replace the word \"apple\" with \"orange\" in the string \"I like apple\"\n",
        "a = \"I like apple\"\n",
        "print(a.replace(\"apple\",\"orange\"))"
      ],
      "metadata": {
        "colab": {
          "base_uri": "https://localhost:8080/"
        },
        "id": "B8QQemndDjPN",
        "outputId": "6de2a561-9a84-45f6-b4c9-175177dd82c8"
      },
      "execution_count": 7,
      "outputs": [
        {
          "output_type": "stream",
          "name": "stdout",
          "text": [
            "I like orange\n"
          ]
        }
      ]
    },
    {
      "cell_type": "code",
      "source": [
        "#Write a code to create a list with numbers 1 to 5 and print it\n",
        "l = [1,2,3,4,5]\n",
        "print(l)"
      ],
      "metadata": {
        "colab": {
          "base_uri": "https://localhost:8080/"
        },
        "id": "KUPNoUiRDjMx",
        "outputId": "93fcd7e6-ed2c-4be2-eba9-7235fb4eea3f"
      },
      "execution_count": 8,
      "outputs": [
        {
          "output_type": "stream",
          "name": "stdout",
          "text": [
            "[1, 2, 3, 4, 5]\n"
          ]
        }
      ]
    },
    {
      "cell_type": "code",
      "source": [
        "#Write a code to append the number 10 to the list [1, 2, 3, 4]\n",
        "s = [1,2,3,4]\n",
        "s.append(10)\n",
        "print(s)"
      ],
      "metadata": {
        "colab": {
          "base_uri": "https://localhost:8080/"
        },
        "id": "ZQGIbd0TDjKI",
        "outputId": "cb986b94-ce13-490c-b3e4-d68f2dce9a18"
      },
      "execution_count": 9,
      "outputs": [
        {
          "output_type": "stream",
          "name": "stdout",
          "text": [
            "[1, 2, 3, 4, 10]\n"
          ]
        }
      ]
    },
    {
      "cell_type": "code",
      "source": [
        "#Write a code to remove the number 3 from the list [1, 2, 3, 4, 5]\n",
        "m = [1,2,3,4,5]\n",
        "m.remove(3)\n",
        "print(m)"
      ],
      "metadata": {
        "colab": {
          "base_uri": "https://localhost:8080/"
        },
        "id": "xjLsaF6EDjHf",
        "outputId": "2f402b60-f558-49ab-b503-fa1f06ee3ba4"
      },
      "execution_count": 10,
      "outputs": [
        {
          "output_type": "stream",
          "name": "stdout",
          "text": [
            "[1, 2, 4, 5]\n"
          ]
        }
      ]
    },
    {
      "cell_type": "code",
      "source": [
        "#Write a code to access the second element in the list ['a', 'b', 'c', 'd']\n",
        "l = ['a', 'b', 'c', 'd']\n",
        "print(l[1])"
      ],
      "metadata": {
        "colab": {
          "base_uri": "https://localhost:8080/"
        },
        "id": "-aCfTVI7DjFC",
        "outputId": "a9a79419-f4e4-4094-95db-832f9e4b4198"
      },
      "execution_count": 12,
      "outputs": [
        {
          "output_type": "stream",
          "name": "stdout",
          "text": [
            "b\n"
          ]
        }
      ]
    },
    {
      "cell_type": "code",
      "source": [
        "#Write a code to reverse the list [10, 20, 30, 40, 50].\n",
        "ls = [10, 20, 30, 40, 50]\n",
        "ls.reverse()\n",
        "print(ls)"
      ],
      "metadata": {
        "colab": {
          "base_uri": "https://localhost:8080/"
        },
        "id": "HVBglTLkFYwX",
        "outputId": "c8343806-7b07-4ddf-827d-7a8f3659fe63"
      },
      "execution_count": 13,
      "outputs": [
        {
          "output_type": "stream",
          "name": "stdout",
          "text": [
            "[50, 40, 30, 20, 10]\n"
          ]
        }
      ]
    },
    {
      "cell_type": "code",
      "source": [
        "# Write a code to create a tuple with the elements 100, 200, 300 and print it.\n",
        "t = (100,200,300)\n",
        "print(t)"
      ],
      "metadata": {
        "colab": {
          "base_uri": "https://localhost:8080/"
        },
        "id": "cYSWwQANFYs1",
        "outputId": "0dda3c5d-e127-4e35-8aa9-0b67c280af92"
      },
      "execution_count": 14,
      "outputs": [
        {
          "output_type": "stream",
          "name": "stdout",
          "text": [
            "(100, 200, 300)\n"
          ]
        }
      ]
    },
    {
      "cell_type": "code",
      "source": [
        "#Write a code to access the second-to-last element of the tuple ('red', 'green', 'blue', 'yellow').\n",
        "t = ('red', 'green', 'blue', 'yellow')\n",
        "print(t[-2])"
      ],
      "metadata": {
        "colab": {
          "base_uri": "https://localhost:8080/"
        },
        "id": "CDIMsgO_FYoM",
        "outputId": "f430fd4a-3057-4488-9a84-172ec9fc50d6"
      },
      "execution_count": 15,
      "outputs": [
        {
          "output_type": "stream",
          "name": "stdout",
          "text": [
            "blue\n"
          ]
        }
      ]
    },
    {
      "cell_type": "code",
      "source": [
        "# Write a code to find the minimum number in the tuple (10, 20, 5, 15).\n",
        "t = (10, 20, 5, 15)\n",
        "print(min(t))"
      ],
      "metadata": {
        "colab": {
          "base_uri": "https://localhost:8080/"
        },
        "id": "fDZr97KhFYmJ",
        "outputId": "186ce276-4b69-427b-bf9e-9b1a3d8e7de5"
      },
      "execution_count": 16,
      "outputs": [
        {
          "output_type": "stream",
          "name": "stdout",
          "text": [
            "5\n"
          ]
        }
      ]
    },
    {
      "cell_type": "code",
      "source": [
        "# Write a code to find the index of the element \"cat\" in the tuple ('dog', 'cat', 'rabbit').\n",
        "t = ('dog', 'cat', 'rabbit')\n",
        "print(t.index('cat'))"
      ],
      "metadata": {
        "colab": {
          "base_uri": "https://localhost:8080/"
        },
        "id": "boWt3GRdFYkF",
        "outputId": "196ae5cc-e02b-4d81-906f-34fb0f374157"
      },
      "execution_count": 17,
      "outputs": [
        {
          "output_type": "stream",
          "name": "stdout",
          "text": [
            "1\n"
          ]
        }
      ]
    },
    {
      "cell_type": "code",
      "source": [
        "#Write a code to create a tuple containing three different fruits and check if \"kiwi\" is in it.\n",
        "t = ('apple', 'banana', 'orange')\n",
        "print('kiwi' in t)"
      ],
      "metadata": {
        "colab": {
          "base_uri": "https://localhost:8080/"
        },
        "id": "eodjzQFmFYiW",
        "outputId": "b25de8d0-3e16-464b-dbae-629dee5d1c51"
      },
      "execution_count": 18,
      "outputs": [
        {
          "output_type": "stream",
          "name": "stdout",
          "text": [
            "False\n"
          ]
        }
      ]
    },
    {
      "cell_type": "code",
      "source": [
        "#Write a code to create a set with the elements 'a', 'b', 'c' and print it.\n",
        "\n",
        "s = {'a', 'b', 'c'}\n",
        "print(s)"
      ],
      "metadata": {
        "colab": {
          "base_uri": "https://localhost:8080/"
        },
        "id": "YA0Y7rDNFYgW",
        "outputId": "d27c407b-0736-4edf-dc67-729f5a1f339c"
      },
      "execution_count": 29,
      "outputs": [
        {
          "output_type": "stream",
          "name": "stdout",
          "text": [
            "{'c', 'b', 'a'}\n"
          ]
        }
      ]
    },
    {
      "cell_type": "code",
      "source": [
        "#Write a code to clear all elements from the set {1, 2, 3, 4, 5}\n",
        "s = {1, 2, 3, 4, 5}\n",
        "s.clear()\n",
        "print(s)"
      ],
      "metadata": {
        "colab": {
          "base_uri": "https://localhost:8080/"
        },
        "id": "9IYjd1D9FYeG",
        "outputId": "a6f9d482-7d2a-4179-f96d-a4819d67d9e0"
      },
      "execution_count": 30,
      "outputs": [
        {
          "output_type": "stream",
          "name": "stdout",
          "text": [
            "set()\n"
          ]
        }
      ]
    },
    {
      "cell_type": "code",
      "source": [
        "# Write a code to remove the element 4 from the set {1, 2, 3, 4}.\n",
        "s = {1, 2, 3, 4}\n",
        "s.remove(4)\n",
        "print(s)"
      ],
      "metadata": {
        "colab": {
          "base_uri": "https://localhost:8080/"
        },
        "id": "QYncA1VuFYb0",
        "outputId": "37251b55-5967-4ced-ef91-a4a96d5b9643"
      },
      "execution_count": 31,
      "outputs": [
        {
          "output_type": "stream",
          "name": "stdout",
          "text": [
            "{1, 2, 3}\n"
          ]
        }
      ]
    },
    {
      "cell_type": "code",
      "source": [
        "#Write a code to find the union of two sets {1, 2, 3} and {3, 4, 5}.\n",
        "s1 = {1, 2, 3}\n",
        "s2 = {3, 4, 5}\n",
        "print(s1.union(s2))"
      ],
      "metadata": {
        "colab": {
          "base_uri": "https://localhost:8080/"
        },
        "id": "5lodLhAtFYW2",
        "outputId": "c0219241-edf4-4f24-b795-d4cb45e33f89"
      },
      "execution_count": 32,
      "outputs": [
        {
          "output_type": "stream",
          "name": "stdout",
          "text": [
            "{1, 2, 3, 4, 5}\n"
          ]
        }
      ]
    },
    {
      "cell_type": "code",
      "source": [
        "#Write a code to find the intersection of two sets {1, 2, 3} and {2, 3, 4}\n",
        "s1 = {1, 2, 3}\n",
        "s2 = {2, 3, 4}\n",
        "print(s1.intersection(s2))"
      ],
      "metadata": {
        "colab": {
          "base_uri": "https://localhost:8080/"
        },
        "id": "j_X052Z7FYTd",
        "outputId": "e5cb71b8-8a5b-4ea6-deb9-0d780757451f"
      },
      "execution_count": 33,
      "outputs": [
        {
          "output_type": "stream",
          "name": "stdout",
          "text": [
            "{2, 3}\n"
          ]
        }
      ]
    },
    {
      "cell_type": "code",
      "source": [
        "#Write a code to create a dictionary with the keys \"name\", \"age\", and \"city\", and print it.\n",
        "d = {\"name\": \"Amareshwar\", \"age\": 21, \"city\": \"hyderabad\"}\n",
        "print(d)"
      ],
      "metadata": {
        "colab": {
          "base_uri": "https://localhost:8080/"
        },
        "id": "Cn47-iZeFYRO",
        "outputId": "04a427db-7e57-4f31-f860-a98f8ec45306"
      },
      "execution_count": 34,
      "outputs": [
        {
          "output_type": "stream",
          "name": "stdout",
          "text": [
            "{'name': 'Amareshwar', 'age': 21, 'city': 'hyderabad'}\n"
          ]
        }
      ]
    },
    {
      "cell_type": "code",
      "source": [
        "#Write a code to add a new key-value pair \"country\": \"USA\" to the dictionary {'name': 'John', 'age': 25}.\n",
        "d = {'name': 'John', 'age': 25}\n",
        "d['country'] = 'USA'\n",
        "print(d)"
      ],
      "metadata": {
        "colab": {
          "base_uri": "https://localhost:8080/"
        },
        "id": "Wi4cGdkMFYO9",
        "outputId": "ee3983a1-1518-4eb5-f01d-6c7e8b352645"
      },
      "execution_count": 35,
      "outputs": [
        {
          "output_type": "stream",
          "name": "stdout",
          "text": [
            "{'name': 'John', 'age': 25, 'country': 'USA'}\n"
          ]
        }
      ]
    },
    {
      "cell_type": "code",
      "source": [
        "#Write a code to access the value associated with the key \"name\" in the dictionary {'name': 'Alice', 'age': 30}.\n",
        "d = {'name': 'Alice', 'age': 30}\n",
        "print(d['name'])"
      ],
      "metadata": {
        "colab": {
          "base_uri": "https://localhost:8080/"
        },
        "id": "-GSkGgOmFXa7",
        "outputId": "cf6b7d9c-c46c-4682-a712-595d0e456d01"
      },
      "execution_count": 36,
      "outputs": [
        {
          "output_type": "stream",
          "name": "stdout",
          "text": [
            "Alice\n"
          ]
        }
      ]
    },
    {
      "cell_type": "code",
      "source": [
        "# Write a code to remove the key \"age\" from the dictionary {'name': 'Bob', 'age': 22, 'city': 'New York'}.\n",
        "d = {'name': 'Bob', 'age': 22, 'city': 'New York'}\n",
        "del d['age']\n",
        "print(d)"
      ],
      "metadata": {
        "colab": {
          "base_uri": "https://localhost:8080/"
        },
        "id": "PevMIAhNILTq",
        "outputId": "fee82d90-768a-44ab-bc86-22c2fbc3ff20"
      },
      "execution_count": 37,
      "outputs": [
        {
          "output_type": "stream",
          "name": "stdout",
          "text": [
            "{'name': 'Bob', 'city': 'New York'}\n"
          ]
        }
      ]
    },
    {
      "cell_type": "code",
      "source": [
        "# Write a code to check if the key \"city\" exists in the dictionary {'name': 'Alice', 'city': 'Paris'}.\n",
        "d = {'name': 'Alice', 'city': 'Paris'}\n",
        "print('city' in d)\n"
      ],
      "metadata": {
        "colab": {
          "base_uri": "https://localhost:8080/"
        },
        "id": "0JuaaDLzILQU",
        "outputId": "a0dc047a-ebc0-4258-bba6-af95bbdf29de"
      },
      "execution_count": 38,
      "outputs": [
        {
          "output_type": "stream",
          "name": "stdout",
          "text": [
            "True\n"
          ]
        }
      ]
    },
    {
      "cell_type": "code",
      "source": [
        "# Write a code to create a list, a tuple, and a dictionary, and print them all.\n",
        "l = [1,2,3,4]\n",
        "t = (1,2,3,4)\n",
        "d = {'name': 'Ajay', 'city': 'Delhi'}\n",
        "print(l,t,d)"
      ],
      "metadata": {
        "colab": {
          "base_uri": "https://localhost:8080/"
        },
        "id": "Id_c7FQcILMZ",
        "outputId": "134a3549-b4e8-4807-b9bb-c3cb908b3bbb"
      },
      "execution_count": 39,
      "outputs": [
        {
          "output_type": "stream",
          "name": "stdout",
          "text": [
            "[1, 2, 3, 4] (1, 2, 3, 4) {'name': 'Ajay', 'city': 'Delhi'}\n"
          ]
        }
      ]
    },
    {
      "cell_type": "code",
      "source": [
        "#Write a code to create a list of 5 random numbers between 1 and 100, sort it in ascending order, and print the result.(replaced)\n",
        "import random\n",
        "l = [random.randint(1,100) for _ in range(5)]\n",
        "l.sort()\n",
        "print(l)"
      ],
      "metadata": {
        "colab": {
          "base_uri": "https://localhost:8080/"
        },
        "id": "7PjoAZuXILKP",
        "outputId": "3e4b7699-6879-4dd2-d04e-9eaa41c6d7dc"
      },
      "execution_count": 42,
      "outputs": [
        {
          "output_type": "stream",
          "name": "stdout",
          "text": [
            "[10, 28, 41, 79, 83]\n"
          ]
        }
      ]
    },
    {
      "cell_type": "code",
      "source": [
        "#Write a code to create a list with strings and print the element at the third index\n",
        "l = ['a','b','c','d','e']\n",
        "print(l[3])"
      ],
      "metadata": {
        "colab": {
          "base_uri": "https://localhost:8080/"
        },
        "id": "ryFff0GkILH2",
        "outputId": "04fac0bd-fcd6-4358-9e39-bd86c4705d1c"
      },
      "execution_count": 43,
      "outputs": [
        {
          "output_type": "stream",
          "name": "stdout",
          "text": [
            "d\n"
          ]
        }
      ]
    },
    {
      "cell_type": "code",
      "source": [
        "# Write a code to combine two dictionaries into one and print the result.\n",
        "d1 = {'a': 1, 'b': 2}\n",
        "d2 = {'c': 3, 'd': 4}\n",
        "d3 = {**d1, **d2}\n",
        "print(d3)"
      ],
      "metadata": {
        "colab": {
          "base_uri": "https://localhost:8080/"
        },
        "id": "zvxMf2nkILF-",
        "outputId": "01d0d1c9-9af6-4de6-babf-9f83bc83d7b6"
      },
      "execution_count": 44,
      "outputs": [
        {
          "output_type": "stream",
          "name": "stdout",
          "text": [
            "{'a': 1, 'b': 2, 'c': 3, 'd': 4}\n"
          ]
        }
      ]
    },
    {
      "cell_type": "code",
      "source": [
        "#Write a code to convert a list of strings into a set.\n",
        "l = ['a','b','c','d','a','c','d','a','a', 'e']\n",
        "s = set(l)\n",
        "print(s)"
      ],
      "metadata": {
        "colab": {
          "base_uri": "https://localhost:8080/"
        },
        "id": "F8h1qpFcILDn",
        "outputId": "e9b2d038-850b-4e43-906a-ac73c3816870"
      },
      "execution_count": 50,
      "outputs": [
        {
          "output_type": "stream",
          "name": "stdout",
          "text": [
            "{'d', 'e', 'b', 'a', 'c'}\n"
          ]
        }
      ]
    }
  ]
}